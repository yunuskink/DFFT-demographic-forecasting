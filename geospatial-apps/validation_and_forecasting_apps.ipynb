{
 "cells": [
  {
   "cell_type": "markdown",
   "metadata": {},
   "source": [
    "## Overview:\n",
    "We here present results of the first forecasts of the probabistic dynamics of racial/ethnic compositions at the neighborhood (census block group) scale. We use the framework of Density-functional Fluctuation Theory (DFFT) to extract from data functions quantifying segregation, then use those functions to forecast how any neighborhood across the US is likely to change its composition into the future. In the following two apps, users can search for any address within the United States and see how well our method forecasted the historical results of the 2010 census (first app) as well as what our method forecasts into the future (second app).\n",
    "\n",
    "## Validation app instructions:\n",
    "\n",
    "![SegmentLocal](misc/validation_gui.gif \"segment\")\n",
    "\n",
    "1. To run the app, click the \"Cell\" menu above, then \"Run All\" to run each cell. It can take a minute or two but this should load both apps. \n",
    "2. Choose the race/ethnicity of interest. Compositions are defined as the fraction of persons within a given neighborhood (US census block group) that identify as that race/ethnicity. \n",
    "3. The dropdown menu chooses which data are presented in the choropleth overlaid on the map. This menu does not affect the forecasts. If `2000` or `2010` are chosen, then the composition of each neighborhood for the chosen race/ethnicity are plotted. If `2000->2010 Observed` is chosen, changes in neigborhood composition over that time interval are plotted. If `2000->2010 Forecasted` is chosen, then DFFT forecasts of the mean change in composition are plotted. If `2000->2010 Error` is chosen, then differences between the DFFT mean forecasted changes and the observed changes, normalized by the standard deviation, $\\sigma$, forecasted from DFFT, are plotted.\n",
    "4. Click the search tool within the map to find an address of interest within the United States. You will need to manually move the marker for plots to update. Changes in the neighborhood updates the forecast line plots to forecast the selected neighborhood.\n",
    "5. Slide the \"Year\" slider below the line graph plot to forecast the probability of observing a given composition in the selected neighrborhood for the selected race/ethnicity for a given year. The blue line should match the dotted line labelled `2000` when the year is set to the 2000 value. As the slider scrolls to the right from 2000 to 2010, the blue probability distribution will broaden. Once the year slider is set to 2010, the user can compare how well the forecast matches the observed neighborhood composition using the `2010` dotted line.\n",
    "6. The text at the bottom of the app reports selected statistics for the chosen neighborhood."
   ]
  },
  {
   "cell_type": "code",
   "execution_count": 1,
   "metadata": {},
   "outputs": [
    {
     "data": {
      "application/vnd.jupyter.widget-view+json": {
       "model_id": "589cd1b2c2cd4826bbba2adb7e25a880",
       "version_major": 2,
       "version_minor": 0
      },
      "text/plain": [
       "AppLayout(children=(VBox(children=(HTML(value='<h2>Validating DFFT forecasts of 2010 compositions<h2>'), HBox(…"
      ]
     },
     "metadata": {},
     "output_type": "display_data"
    }
   ],
   "source": [
    "import dfft_visualization_usa\n",
    "validation_app = dfft_visualization_usa.build_validation_app()\n",
    "validation_app"
   ]
  },
  {
   "cell_type": "markdown",
   "metadata": {},
   "source": [
    "## Forecasting app instructions:\n",
    "\n",
    "The forecasting app takes compositions from the year 2010 and forecasts them all the way to 2050. This app differs from the validation app above because we do not know ahead of time how the compositions at the county scale will change. For this app then, users can specify their own values for the expected county composition in the year 2050 in order to see how such coarse population changes are likely to affect compositions at the much finer neighborhood scale. \n",
    "\n",
    "![SegmentLocal](misc/forecasting_gui.gif \"segment\")\n",
    "\n",
    "1. If you have not done so already, click the \"Cell\" menu above, then \"Run All\" to run each cell. It can take a minute or two for the app to appear. \n",
    "2. Choose the race/ethnicity of interest. Compositions are defined as the fraction of persons within a given neighborhood (US census block group) that identify as that race/ethnicity. \n",
    "3. The dropdown menu chooses which data are presented in the choropleth overlaid on the map. This menu does not affect the forecasts. For now, the only displayed option is `2010` for the initial compositions. Coming soon are options for users to see choropleths of the forecasts of mean changes in composition up to the year `2050` using traditional population projections of county population changes. \n",
    "4. Click the search tool within the map to find an address of interest within the United States. You still need to manually move the marker for plots to update. This will change the forecast line plots.\n",
    "5. Slide the \"Year\" slider below the line graph plot to forecast the probability of observing a given composition in the selected neighrborhood for the selected race/ethnicity for a given year. The blue line should match the dotted line labelled `2010` when the year is set to the 2010 value. As the slider scrolls to the right from 2010 to 2050, the blue probability distribution will broaden. Note that this slider now moves faster in 5 year increments.\n",
    "6. The text footer of the app reports some statistics for the chosen neighborhood.\n"
   ]
  },
  {
   "cell_type": "code",
   "execution_count": 2,
   "metadata": {},
   "outputs": [
    {
     "data": {
      "application/vnd.jupyter.widget-view+json": {
       "model_id": "871a182eebdc462fb68591a46935e93b",
       "version_major": 2,
       "version_minor": 0
      },
      "text/plain": [
       "AppLayout(children=(VBox(children=(HTML(value='<h2>Forecasting neighborhood compositions into the future<h2>')…"
      ]
     },
     "metadata": {},
     "output_type": "display_data"
    }
   ],
   "source": [
    "forecasting_app = dfft_visualization_usa.build_forecasting_app()\n",
    "forecasting_app"
   ]
  },
  {
   "cell_type": "code",
   "execution_count": null,
   "metadata": {},
   "outputs": [],
   "source": []
  }
 ],
 "metadata": {
  "@webio": {
   "lastCommId": null,
   "lastKernelId": null
  },
  "kernelspec": {
   "display_name": "Python 3",
   "language": "python",
   "name": "python3"
  },
  "language_info": {
   "codemirror_mode": {
    "name": "ipython",
    "version": 3
   },
   "file_extension": ".py",
   "mimetype": "text/x-python",
   "name": "python",
   "nbconvert_exporter": "python",
   "pygments_lexer": "ipython3",
   "version": "3.7.6"
  },
  "varInspector": {
   "cols": {
    "lenName": 16,
    "lenType": 16,
    "lenVar": 40
   },
   "kernels_config": {
    "python": {
     "delete_cmd_postfix": "",
     "delete_cmd_prefix": "del ",
     "library": "var_list.py",
     "varRefreshCmd": "print(var_dic_list())"
    },
    "r": {
     "delete_cmd_postfix": ") ",
     "delete_cmd_prefix": "rm(",
     "library": "var_list.r",
     "varRefreshCmd": "cat(var_dic_list()) "
    }
   },
   "types_to_exclude": [
    "module",
    "function",
    "builtin_function_or_method",
    "instance",
    "_Feature"
   ],
   "window_display": false
  }
 },
 "nbformat": 4,
 "nbformat_minor": 4
}
